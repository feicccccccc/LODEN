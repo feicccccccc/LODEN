{
 "cells": [
  {
   "cell_type": "markdown",
   "metadata": {},
   "source": [
    "# Cartpole Problem\n",
    "\n",
    "The state and control vectors $\\textbf{x}$ and $\\textbf{u}$ are defined as follows:\n",
    "\n",
    "$$\n",
    "\\begin{equation*}\n",
    "\\textbf{x} = \\begin{bmatrix}\n",
    "    x & \\dot{x} & \\theta & \\dot{\\theta}\n",
    "    \\end{bmatrix}^T\n",
    "\\end{equation*}\n",
    "$$\n",
    "\n",
    "$$\n",
    "\\begin{equation*}\n",
    "\\textbf{u} = \\begin{bmatrix}\n",
    "    F_{x}\n",
    "    \\end{bmatrix}^T\n",
    "\\end{equation*}\n",
    "$$\n",
    "\n",
    "The goal is to swing the pendulum upright:\n",
    "\n",
    "$$\n",
    "\\begin{equation*}\n",
    "\\textbf{x}_{goal} = \\begin{bmatrix}\n",
    "    0 & 0 & 0 & 0\n",
    "    \\end{bmatrix}^T\n",
    "\\end{equation*}\n",
    "$$\n",
    "\n",
    "**Note**: The force is constrained between $-1$ and $1$. This is achieved by\n",
    "instead fitting for unconstrained actions and then applying it to a squashing\n",
    "function $\\tanh(\\textbf{u})$. This is directly embedded into the dynamics model\n",
    "in order to be auto-differentiated. This also means that we need to apply this\n",
    "transformation manually to the output of our iLQR at the end."
   ]
  },
  {
   "cell_type": "code",
   "execution_count": 19,
   "metadata": {},
   "outputs": [],
   "source": [
    "%matplotlib inline"
   ]
  },
  {
   "cell_type": "code",
   "execution_count": 20,
   "metadata": {},
   "outputs": [],
   "source": [
    "from __future__ import print_function"
   ]
  },
  {
   "cell_type": "code",
   "execution_count": 21,
   "metadata": {},
   "outputs": [],
   "source": [
    "import sys\n",
    "sys.path.append(\"../../ilqr\")\n",
    "sys.path.append(\"../../\")"
   ]
  },
  {
   "cell_type": "code",
   "execution_count": 22,
   "metadata": {},
   "outputs": [],
   "source": [
    "import numpy as np\n",
    "import torch\n",
    "\n",
    "import matplotlib.pyplot as plt\n",
    "from torchdyn.models import NeuralODE\n",
    "\n",
    "from cartpole import CartPoleDynamic, GeneralDyanmic\n",
    "from cost import QRCost\n",
    "from controller import iLQR\n",
    "\n",
    "from dynamic import constrain\n",
    "np.set_printoptions(suppress=True)"
   ]
  },
  {
   "cell_type": "code",
   "execution_count": 23,
   "metadata": {},
   "outputs": [],
   "source": [
    "def on_iteration(iteration_count, xs, us, J_opt, accepted, converged):\n",
    "    J_hist.append(J_opt)\n",
    "    info = \"converged\" if converged else (\"accepted\" if accepted else \"failed\")\n",
    "    final_state = CartPoleDynamic.reduce_state(xs[-1])\n",
    "    print(\"iteration\", iteration_count, info, J_opt, final_state)"
   ]
  },
  {
   "cell_type": "code",
   "execution_count": 24,
   "metadata": {},
   "outputs": [],
   "source": [
    "np.set_printoptions(suppress=True)\n",
    "\n",
    "device = 'cpu'\n",
    "grad = NeuralODE(CartPoleDynamic().to(device), sensitivity='adjoint', solver='rk4')\n",
    "dynamics = GeneralDyanmic(0.02, grad, state_size=5, action_size=1)"
   ]
  },
  {
   "cell_type": "code",
   "execution_count": 25,
   "metadata": {},
   "outputs": [],
   "source": [
    "# Note that the augmented state is not all 0.\n",
    "x_goal = CartPoleDynamic.augment_state(np.array([0.0, 0.0, 0.0, 0.0]))\n",
    "\n",
    "# Instantenous state cost.\n",
    "Q = np.eye(dynamics.state_size)\n",
    "Q[0, 0] = 1.0\n",
    "Q[1, 1] = Q[4, 4] = 0.0\n",
    "# Q[0, 2] = Q[2, 0] = pole_length\n",
    "# Q[2, 2] = Q[3, 3] = pole_length ** 2\n",
    "R = 0.1 * np.eye(dynamics.action_size)\n",
    "\n",
    "# Terminal state cost.\n",
    "Q_terminal = 100 * np.eye(dynamics.state_size)\n",
    "\n",
    "# Instantaneous control cost.\n",
    "R = np.array([[0.1]])\n",
    "\n",
    "cost = QRCost(Q, R, Q_terminal=Q_terminal, x_goal=x_goal)"
   ]
  },
  {
   "cell_type": "code",
   "execution_count": 44,
   "metadata": {},
   "outputs": [],
   "source": [
    "N = 200\n",
    "x0 = CartPoleDynamic.augment_state(np.array([0.0, 0.0, np.pi, 0.0]))\n",
    "np.random.seed(0)\n",
    "us_init = np.random.uniform(-1, 1, (N, dynamics.action_size))\n",
    "ilqr = iLQR(dynamics, cost, N)"
   ]
  },
  {
   "cell_type": "code",
   "execution_count": 45,
   "metadata": {
    "scrolled": true
   },
   "outputs": [
    {
     "name": "stdout",
     "output_type": "stream",
     "text": [
      "iteration 0 accepted 3144.7210242816227 [ 2.25497937  0.53560394  2.75393407 -0.67993796]\n",
      "iteration 1 accepted 1114.2968744254335 [0.17005545 0.60664427 2.38323861 0.99728698]\n",
      "iteration 2 accepted 372.0179762547385 [-0.10403256 -0.04218729  1.93798145 -0.6142571 ]\n",
      "iteration 3 accepted 316.35609423289924 [ 0.11130642  0.00510081  1.7097096  -0.33318636]\n",
      "iteration 4 accepted 270.86224209997636 [ 0.04804971 -0.17667855  1.48976053 -0.05949122]\n",
      "iteration 5 accepted 234.3474437655542 [ 0.15000181 -0.03680922  1.13857479 -0.10985824]\n",
      "iteration 6 accepted 193.6778168806129 [ 0.0990363  -0.00114913  0.8804532  -0.28622833]\n",
      "iteration 7 accepted 179.4531666429121 [ 0.08189557 -0.00044914  0.70676123 -0.34658432]\n",
      "iteration 8 accepted 177.3513498678739 [ 0.04124812  0.01949513  0.59558058 -0.45306328]\n",
      "iteration 9 accepted 165.11818881383186 [ 0.01875562 -0.03260422  0.55070804 -0.36614612]\n",
      "iteration 10 accepted 162.0933962738958 [ 0.00535138 -0.01066628  0.51629228 -0.36571932]\n",
      "iteration 11 accepted 156.79541170869038 [-0.00017527 -0.01589382  0.50553207 -0.30376399]\n",
      "iteration 12 accepted 154.22843431018734 [ 0.00599056  0.00768329  0.47607111 -0.31634346]\n",
      "iteration 13 accepted 150.27611254130733 [ 0.00731985 -0.01411293  0.4649087  -0.24917051]\n",
      "iteration 14 accepted 148.99898362639738 [ 0.01030222  0.00039738  0.44681942 -0.25798762]\n",
      "iteration 15 accepted 146.41194779471903 [ 0.00764911 -0.02782327  0.440667   -0.1982742 ]\n",
      "iteration 16 accepted 145.30916299938906 [ 0.01004517 -0.01997481  0.43097171 -0.20366848]\n",
      "iteration 17 accepted 143.32964076500022 [ 0.00803066 -0.04624785  0.42323241 -0.1558736 ]\n",
      "iteration 18 accepted 142.41811209449116 [ 0.01083636 -0.04584809  0.41374486 -0.15596119]\n",
      "iteration 19 accepted 141.25153709842698 [ 0.00997447 -0.06139387  0.4083945  -0.12394667]\n",
      "iteration 20 accepted 140.921604332664 [ 0.01246643 -0.06377268  0.40260313 -0.11947089]\n",
      "iteration 21 accepted 140.85732619495525 [ 0.00948653 -0.06946971  0.39960996 -0.10485998]\n",
      "iteration 22 accepted 138.11386299908563 [ 0.01501156 -0.07110281  0.39305862 -0.10216311]\n",
      "iteration 23 accepted 136.24646905971366 [ 0.03457388 -0.07679713  0.37390929 -0.08376876]\n",
      "iteration 24 accepted 135.46728920099227 [ 0.02765697 -0.07616387  0.36269162 -0.08125362]\n",
      "iteration 25 accepted 135.152580906305 [ 0.02555815 -0.07173625  0.35089215 -0.07459569]\n",
      "iteration 26 accepted 134.83461341644198 [ 0.01860779 -0.07043035  0.34511506 -0.0734126 ]\n",
      "iteration 27 accepted 134.27133464614187 [ 0.01972191 -0.0719884   0.3393163  -0.07307714]\n",
      "iteration 28 accepted 133.65590811706562 [ 0.01584332 -0.07237069  0.33196456 -0.07270354]\n",
      "iteration 29 accepted 132.9909270240997 [ 0.02271152 -0.07372959  0.32386974 -0.07217216]\n",
      "iteration 30 accepted 132.62355263104382 [ 0.01645532 -0.07319488  0.31743069 -0.07135567]\n",
      "iteration 31 accepted 132.16904420515897 [ 0.02127001 -0.07118727  0.31268665 -0.06883749]\n",
      "iteration 32 accepted 131.62819147830507 [ 0.01726308 -0.07066093  0.30668846 -0.06800961]\n",
      "iteration 33 accepted 131.0894699677835 [ 0.02369986 -0.06934421  0.3005824  -0.06602928]\n",
      "iteration 34 accepted 130.5761444161193 [ 0.01982795 -0.06882028  0.29453209 -0.06517288]\n",
      "iteration 35 accepted 130.19789033989883 [ 0.02423522 -0.06675068  0.28831825 -0.06269822]\n",
      "iteration 36 accepted 129.6640431286936 [ 0.0214471  -0.06615958  0.28314324 -0.0618794 ]\n",
      "iteration 37 accepted 129.24711794135183 [ 0.02541311 -0.06521145  0.27609336 -0.06030273]\n",
      "iteration 38 accepted 128.7753654181269 [ 0.02312935 -0.06487189  0.27114139 -0.0596548 ]\n",
      "iteration 39 accepted 128.43743115472148 [ 0.02534322 -0.06338605  0.26390727 -0.0577544 ]\n",
      "iteration 40 accepted 128.04203925608053 [ 0.02373213 -0.06304963  0.25979359 -0.05718192]\n",
      "iteration 41 accepted 127.73178556746451 [ 0.02526207 -0.06196773  0.25257361 -0.05568528]\n",
      "iteration 42 accepted 127.41440479394801 [ 0.02389015 -0.06167139  0.24905208 -0.05517992]\n",
      "iteration 43 accepted 127.205620502503 [ 0.02435921 -0.06048757  0.24255431 -0.05372885]\n",
      "iteration 44 accepted 126.93064345653598 [ 0.02333833 -0.06013156  0.23971706 -0.05324712]\n",
      "iteration 45 accepted 126.85392222622656 [ 0.02389428 -0.05937609  0.23427113 -0.05221304]\n",
      "iteration 46 accepted 126.62189496633425 [ 0.02297612 -0.05881116  0.23214472 -0.05164778]\n",
      "iteration 47 accepted 126.51095806302146 [ 0.02322362 -0.05891585  0.22940074 -0.05145168]\n",
      "iteration 48 accepted 126.37345935697769 [ 0.02281418 -0.05837712  0.22734866 -0.05092093]\n",
      "iteration 49 accepted 126.27891926521346 [ 0.02295758 -0.05821007  0.2247367  -0.05056372]\n"
     ]
    }
   ],
   "source": [
    "J_hist = []\n",
    "xs, us = ilqr.fit(x0, np.concatenate([us, us2], axis=0), n_iterations=50, on_iteration=on_iteration)"
   ]
  },
  {
   "cell_type": "code",
   "execution_count": 46,
   "metadata": {},
   "outputs": [],
   "source": [
    "# Reduce the state to something more reasonable.\n",
    "xs_reduced = CartPoleDynamic.reduce_state(xs)\n",
    "\n",
    "# Constrain the actions to see what's actually applied to the system.\n",
    "us = constrain(us, -10, 10)"
   ]
  },
  {
   "cell_type": "code",
   "execution_count": 51,
   "metadata": {},
   "outputs": [
    {
     "data": {
      "text/plain": [
       "array([[-6.09296288],\n",
       "       [-4.76938791],\n",
       "       [-3.31075272],\n",
       "       [-2.0499559 ],\n",
       "       [-1.1628695 ],\n",
       "       [-0.59606204],\n",
       "       [-0.2357901 ],\n",
       "       [ 0.00411888],\n",
       "       [ 0.17569993],\n",
       "       [ 0.30816335],\n",
       "       [ 0.41756682],\n",
       "       [ 0.51267156],\n",
       "       [ 0.59835065],\n",
       "       [ 0.67739195],\n",
       "       [ 0.75150926],\n",
       "       [ 0.82182738],\n",
       "       [ 0.88921185],\n",
       "       [ 0.95431733],\n",
       "       [ 1.01762265],\n",
       "       [ 1.0795159 ],\n",
       "       [ 1.14022134],\n",
       "       [ 1.19977601],\n",
       "       [ 1.25804091],\n",
       "       [ 1.31463361],\n",
       "       [ 1.36897583],\n",
       "       [ 1.42025602],\n",
       "       [ 1.46742789],\n",
       "       [ 1.5092843 ],\n",
       "       [ 1.54448986],\n",
       "       [ 1.57153444],\n",
       "       [ 1.5890036 ],\n",
       "       [ 1.59543259],\n",
       "       [ 1.58957781],\n",
       "       [ 1.57041068],\n",
       "       [ 1.53725923],\n",
       "       [ 1.48988889],\n",
       "       [ 1.42854198],\n",
       "       [ 1.35402636],\n",
       "       [ 1.26770307],\n",
       "       [ 1.17143171],\n",
       "       [ 1.0674973 ],\n",
       "       [ 0.95846008],\n",
       "       [ 0.84702873],\n",
       "       [ 0.73578965],\n",
       "       [ 0.62706824],\n",
       "       [ 0.52274459],\n",
       "       [ 0.42412309],\n",
       "       [ 0.33185368],\n",
       "       [ 0.24591418],\n",
       "       [ 0.16564384],\n",
       "       [ 0.08980609],\n",
       "       [ 0.01670688],\n",
       "       [-0.05570143],\n",
       "       [-0.12970498],\n",
       "       [-0.20767868],\n",
       "       [-0.29200754],\n",
       "       [-0.3849503 ],\n",
       "       [-0.48856595],\n",
       "       [-0.60463433],\n",
       "       [-0.73453916],\n",
       "       [-0.87918334],\n",
       "       [-1.03894759],\n",
       "       [-1.21346156],\n",
       "       [-1.40159331],\n",
       "       [-1.60113117],\n",
       "       [-1.80882259],\n",
       "       [-2.02016232],\n",
       "       [-2.22935255],\n",
       "       [-2.42949007],\n",
       "       [-2.61286311],\n",
       "       [-2.77118564],\n",
       "       [-2.89626738],\n",
       "       [-2.98033906],\n",
       "       [-3.0165545 ],\n",
       "       [-2.99931641],\n",
       "       [-2.92488127],\n",
       "       [-2.791686  ],\n",
       "       [-2.60127292],\n",
       "       [-2.3591021 ],\n",
       "       [-2.07530257],\n",
       "       [-1.76472024],\n",
       "       [-1.44600558],\n",
       "       [-1.13937721],\n",
       "       [-0.86375784],\n",
       "       [-0.63414158],\n",
       "       [-0.4599601 ],\n",
       "       [-0.3448243 ],\n",
       "       [-0.28718293],\n",
       "       [-0.28140678],\n",
       "       [-0.3189282 ],\n",
       "       [-0.38927874],\n",
       "       [-0.48096972],\n",
       "       [-0.58223726],\n",
       "       [-0.68164111],\n",
       "       [-0.76854885],\n",
       "       [-0.83338678],\n",
       "       [-0.86777983],\n",
       "       [-0.8644906 ],\n",
       "       [-0.81725513],\n",
       "       [-0.72059427],\n",
       "       [-0.56935127],\n",
       "       [-0.3584445 ],\n",
       "       [-0.08223883],\n",
       "       [ 0.26584572],\n",
       "       [ 0.69376568],\n",
       "       [ 1.21015735],\n",
       "       [ 1.82091495],\n",
       "       [ 2.52163294],\n",
       "       [ 3.28647272],\n",
       "       [ 4.06356647],\n",
       "       [ 4.78858502],\n",
       "       [ 5.40950467],\n",
       "       [ 5.90043317],\n",
       "       [ 6.25707644],\n",
       "       [ 6.48496425],\n",
       "       [ 6.58904427],\n",
       "       [ 6.567009  ],\n",
       "       [ 6.40386672],\n",
       "       [ 6.06561263],\n",
       "       [ 5.49041568],\n",
       "       [ 4.58036381],\n",
       "       [ 3.21915952],\n",
       "       [ 1.40067775],\n",
       "       [-0.52169153],\n",
       "       [-2.0130029 ],\n",
       "       [-2.93003452],\n",
       "       [-3.41099957],\n",
       "       [-3.5864728 ],\n",
       "       [-3.53205925],\n",
       "       [-3.28819164],\n",
       "       [-2.87799123],\n",
       "       [-2.31956505],\n",
       "       [-1.63505939],\n",
       "       [-0.85666603],\n",
       "       [-0.02782039],\n",
       "       [ 0.80152526],\n",
       "       [ 1.58374258],\n",
       "       [ 2.28172378],\n",
       "       [ 2.8724011 ],\n",
       "       [ 3.34523722],\n",
       "       [ 3.69795939],\n",
       "       [ 3.93204935],\n",
       "       [ 4.04889815],\n",
       "       [ 4.04696172],\n",
       "       [ 3.91897745],\n",
       "       [ 3.64812298],\n",
       "       [ 3.20002702],\n",
       "       [ 2.50394322],\n",
       "       [ 1.40839505],\n",
       "       [-0.37682956],\n",
       "       [-2.99282685],\n",
       "       [-5.47548873],\n",
       "       [-7.04354037],\n",
       "       [-7.95357108],\n",
       "       [-8.50826523],\n",
       "       [-8.87110285],\n",
       "       [-9.11441006],\n",
       "       [-9.20322145],\n",
       "       [-8.32573139],\n",
       "       [-8.2151903 ],\n",
       "       [-9.39419215],\n",
       "       [-9.32827824],\n",
       "       [-9.17533989],\n",
       "       [-8.92812906],\n",
       "       [-8.5849793 ],\n",
       "       [-7.86764749],\n",
       "       [-6.78557774],\n",
       "       [-2.07698472],\n",
       "       [ 5.7032756 ],\n",
       "       [ 7.07069036],\n",
       "       [ 7.49788802],\n",
       "       [ 7.64475997],\n",
       "       [ 7.6494131 ],\n",
       "       [ 7.55502195],\n",
       "       [ 7.37267579],\n",
       "       [ 7.09889353],\n",
       "       [ 6.72369587],\n",
       "       [ 6.23699456],\n",
       "       [ 5.63634795],\n",
       "       [ 4.93678316],\n",
       "       [ 4.17862521],\n",
       "       [ 3.42349279],\n",
       "       [ 2.73428744],\n",
       "       [ 2.15268932],\n",
       "       [ 1.69180662],\n",
       "       [ 1.34423853],\n",
       "       [ 1.09334294],\n",
       "       [ 0.92019216],\n",
       "       [ 0.8055709 ],\n",
       "       [ 0.72890088],\n",
       "       [ 0.66496047],\n",
       "       [ 0.57812159],\n",
       "       [ 0.41208738],\n",
       "       [ 0.07182445],\n",
       "       [-0.60179768],\n",
       "       [-1.81181527],\n",
       "       [-3.55109564],\n",
       "       [-5.33228272],\n",
       "       [-6.70763422],\n",
       "       [-7.64043268]])"
      ]
     },
     "execution_count": 51,
     "metadata": {},
     "output_type": "execute_result"
    }
   ],
   "source": [
    "us"
   ]
  },
  {
   "cell_type": "code",
   "execution_count": 48,
   "metadata": {},
   "outputs": [],
   "source": [
    "dt=0.02\n",
    "t = np.arange(N + 1) * dt\n",
    "x = xs_reduced[:, 0]\n",
    "x_dot = xs_reduced[:, 1]\n",
    "theta = np.unwrap(xs_reduced[:, 2])  # Makes for smoother plots.\n",
    "theta_dot = xs_reduced[:, 3]"
   ]
  },
  {
   "cell_type": "code",
   "execution_count": 49,
   "metadata": {},
   "outputs": [
    {
     "data": {
      "image/png": "[encoded data removed]",
      "text/plain": [
       "<Figure size 432x288 with 1 Axes>"
      ]
     },
     "metadata": {
      "needs_background": "light"
     },
     "output_type": "display_data"
    }
   ],
   "source": [
    "_ = plt.plot(theta, theta_dot)\n",
    "_ = plt.xlabel(\"theta (rad)\")\n",
    "_ = plt.ylabel(\"theta_dot (rad/s)\")\n",
    "_ = plt.title(\"Orientation Phase Plot\")"
   ]
  },
  {
   "cell_type": "code",
   "execution_count": 32,
   "metadata": {},
   "outputs": [
    {
     "data": {
      "image/png": "[encoded data removed]",
      "text/plain": [
       "<Figure size 432x288 with 1 Axes>"
      ]
     },
     "metadata": {
      "needs_background": "light"
     },
     "output_type": "display_data"
    }
   ],
   "source": [
    "_ = plt.plot(t, theta)\n",
    "_ = plt.xlabel(\"time (s)\")\n",
    "_ = plt.ylabel(\"Orientation (rad)\")\n",
    "_ = plt.title(\"Orientation path\")"
   ]
  },
  {
   "cell_type": "code",
   "execution_count": 33,
   "metadata": {},
   "outputs": [
    {
     "data": {
      "image/png": "[encoded data removed]",
      "text/plain": [
       "<Figure size 432x288 with 1 Axes>"
      ]
     },
     "metadata": {
      "needs_background": "light"
     },
     "output_type": "display_data"
    }
   ],
   "source": [
    "_ = plt.plot(t[:-1], us)\n",
    "_ = plt.xlabel(\"time (s)\")\n",
    "_ = plt.ylabel(\"Force (N)\")\n",
    "_ = plt.title(\"Action path\")"
   ]
  },
  {
   "cell_type": "code",
   "execution_count": 34,
   "metadata": {},
   "outputs": [
    {
     "data": {
      "image/png": "[encoded data removed]",
      "text/plain": [
       "<Figure size 432x288 with 1 Axes>"
      ]
     },
     "metadata": {
      "needs_background": "light"
     },
     "output_type": "display_data"
    }
   ],
   "source": [
    "_ = plt.plot(t, x)\n",
    "_ = plt.xlabel(\"time (s)\")\n",
    "_ = plt.ylabel(\"Position (m)\")\n",
    "_ = plt.title(\"Position path\")"
   ]
  },
  {
   "cell_type": "code",
   "execution_count": 35,
   "metadata": {},
   "outputs": [
    {
     "data": {
      "image/png": "[encoded data removed]",
      "text/plain": [
       "<Figure size 432x288 with 1 Axes>"
      ]
     },
     "metadata": {
      "needs_background": "light"
     },
     "output_type": "display_data"
    }
   ],
   "source": [
    "_ = plt.plot(t, x_dot)\n",
    "_ = plt.xlabel(\"time (s)\")\n",
    "_ = plt.ylabel(\"Velocity (m)\")\n",
    "_ = plt.title(\"Velocity path\")"
   ]
  },
  {
   "cell_type": "code",
   "execution_count": 36,
   "metadata": {},
   "outputs": [
    {
     "data": {
      "image/png": "[encoded data removed]",
      "text/plain": [
       "<Figure size 432x288 with 1 Axes>"
      ]
     },
     "metadata": {
      "needs_background": "light"
     },
     "output_type": "display_data"
    }
   ],
   "source": [
    "_ = plt.plot(t, theta_dot)\n",
    "_ = plt.xlabel(\"time (s)\")\n",
    "_ = plt.ylabel(\"Angular velocity (rad/s)\")\n",
    "_ = plt.title(\"Angular velocity path\")"
   ]
  },
  {
   "cell_type": "code",
   "execution_count": null,
   "metadata": {
    "scrolled": false
   },
   "outputs": [],
   "source": [
    "_ = plt.plot(J_hist)\n",
    "_ = plt.xlabel(\"Iteration\")\n",
    "_ = plt.ylabel(\"Total cost\")\n",
    "_ = plt.title(\"Total cost-to-go\")"
   ]
  },
  {
   "cell_type": "code",
   "execution_count": null,
   "metadata": {},
   "outputs": [],
   "source": [
    "models = torch.load(\"../Cartpole/model/gradvsODEvsFD_new.pt\")\n",
    "lagODE_model = torch.load(\"../Cartpole/model/gradvsODEvsFD_lagODE_new.pt\")\n",
    "models.insert(1, lagODE_model)\n",
    "\n",
    "for model in models:\n",
    "    model.eval()\n",
    "None"
   ]
  },
  {
   "cell_type": "code",
   "execution_count": null,
   "metadata": {},
   "outputs": [],
   "source": [
    "test_dynamics = GeneralDyanmic(0.05, models[1], state_size=5, action_size=1)\n",
    "ilqr = iLQR(test_dynamics, cost, N)"
   ]
  },
  {
   "cell_type": "code",
   "execution_count": null,
   "metadata": {},
   "outputs": [],
   "source": [
    "J_hist = []\n",
    "model_xs, model_us = ilqr.fit(x0, us_init, n_iterations=50, on_iteration=on_iteration)"
   ]
  },
  {
   "cell_type": "code",
   "execution_count": null,
   "metadata": {},
   "outputs": [],
   "source": [
    "model_xs_reduced = CartPoleDynamic.reduce_state(model_xs)\n",
    "model_us_constrained = constrain(model_us, -10, 10)"
   ]
  },
  {
   "cell_type": "code",
   "execution_count": null,
   "metadata": {},
   "outputs": [],
   "source": [
    "t = np.arange(N + 1) * dt\n",
    "x = model_xs_reduced[:, 0]\n",
    "x_dot = model_xs_reduced[:, 1]\n",
    "theta = np.unwrap(model_xs_reduced[:, 2])  # Makes for smoother plots.\n",
    "theta_dot = model_xs_reduced[:, 3]"
   ]
  },
  {
   "cell_type": "code",
   "execution_count": null,
   "metadata": {},
   "outputs": [],
   "source": [
    "theta[-1]"
   ]
  },
  {
   "cell_type": "code",
   "execution_count": null,
   "metadata": {},
   "outputs": [],
   "source": [
    "_ = plt.plot(theta, theta_dot)\n",
    "_ = plt.xlabel(\"theta (rad)\")\n",
    "_ = plt.ylabel(\"theta_dot (rad/s)\")\n",
    "_ = plt.title(\"Orientation Phase Plot\")"
   ]
  },
  {
   "cell_type": "code",
   "execution_count": null,
   "metadata": {},
   "outputs": [],
   "source": [
    "from gym_env import CartPoleCustomEnv"
   ]
  },
  {
   "cell_type": "code",
   "execution_count": null,
   "metadata": {},
   "outputs": [],
   "source": [
    "env = CartPoleCustomEnv()\n",
    "env.seed(0)\n",
    "np.random.seed(0)\n",
    "\n",
    "test_obs = []\n",
    "test_infos = []\n",
    "\n",
    "split = 20\n",
    "test_obs0, _ = env.reset(np.array([0.0, 0.0, np.pi, 0.0]))\n",
    "\n",
    "prev_obs = test_obs0\n",
    "\n",
    "for i in range(50):\n",
    "    test_obs.append(prev_obs)\n",
    "    \n",
    "    next_obs, reward, done, info = env.step(model_us_constrained[i])\n",
    "    test_infos.append(np.array([info['th'], info['ddx'], info['ddth']]))\n",
    "    \n",
    "    prev_obs = next_obs\n",
    "    last_us = us"
   ]
  },
  {
   "cell_type": "code",
   "execution_count": null,
   "metadata": {},
   "outputs": [],
   "source": [
    "test_x = CartPoleDynamic.reduce_state(np.array(test_obs))\n",
    "\n",
    "t = np.arange(N) * dt\n",
    "theta = np.unwrap(test_x[:, 0])  # Makes for smoother plots.\n",
    "theta_dot = test_x[:, 1]"
   ]
  },
  {
   "cell_type": "code",
   "execution_count": null,
   "metadata": {},
   "outputs": [],
   "source": [
    "_ = plt.plot(theta, theta_dot)\n",
    "_ = plt.xlabel(\"theta (rad)\")\n",
    "_ = plt.ylabel(\"theta_dot (rad/s)\")\n",
    "_ = plt.title(\"Orientation Phase Plot\")"
   ]
  },
  {
   "cell_type": "code",
   "execution_count": null,
   "metadata": {},
   "outputs": [],
   "source": [
    "# MPC\n",
    "mpc_dynamics = GeneralDyanmic(0.02, models[2], state_size=5, action_size=1)\n",
    "ilqr = iLQR(mpc_dynamics, cost, N)"
   ]
  },
  {
   "cell_type": "code",
   "execution_count": null,
   "metadata": {},
   "outputs": [],
   "source": [
    "env = CartPoleCustomEnv()\n",
    "env.seed(0)\n",
    "np.random.seed(0)\n",
    "\n",
    "all_us = []\n",
    "all_xs = []\n",
    "test_obs = []\n",
    "test_infos = []\n",
    "\n",
    "split = 20\n",
    "test_obs0, _ = env.reset(np.array([0.0, 0.0, np.pi, 0.0]))\n",
    "\n",
    "prev_obs = test_obs0\n",
    "last_us = us_init\n",
    "\n",
    "for i in range(50):\n",
    "    print(i)\n",
    "    test_obs.append(prev_obs)\n",
    "    xs, us = ilqr.fit(prev_obs, last_us, n_iterations=20, on_iteration=on_iteration)\n",
    "    all_us.append(us)\n",
    "    all_xs.append(xs)\n",
    "    \n",
    "    next_obs, reward, done, info = env.step(us[0])\n",
    "    test_infos.append(np.array([info['th'], info['ddx'], info['ddth']]))\n",
    "    \n",
    "    prev_obs = next_obs\n",
    "    last_us = us"
   ]
  },
  {
   "cell_type": "code",
   "execution_count": null,
   "metadata": {},
   "outputs": [],
   "source": [
    "test_x = CartPoleDynamic.reduce_state(np.array(test_obs))\n",
    "\n",
    "t = np.arange(N) * dt\n",
    "theta = np.unwrap(test_x[:, 0])  # Makes for smoother plots.\n",
    "theta_dot = test_x[:, 1]\n",
    "\n",
    "_ = plt.plot(theta, theta_dot)\n",
    "_ = plt.xlabel(\"theta (rad)\")\n",
    "_ = plt.ylabel(\"theta_dot (rad/s)\")\n",
    "_ = plt.title(\"Orientation Phase Plot\")"
   ]
  },
  {
   "cell_type": "code",
   "execution_count": null,
   "metadata": {},
   "outputs": [],
   "source": []
  }
 ],
 "metadata": {
  "kernelspec": {
   "display_name": "Python 3",
   "language": "python",
   "name": "python3"
  },
  "language_info": {
   "codemirror_mode": {
    "name": "ipython",
    "version": 3
   },
   "file_extension": ".py",
   "mimetype": "text/x-python",
   "name": "python",
   "nbconvert_exporter": "python",
   "pygments_lexer": "ipython3",
   "version": "3.8.10"
  },
  "notify_time": "5"
 },
 "nbformat": 4,
 "nbformat_minor": 2
}
